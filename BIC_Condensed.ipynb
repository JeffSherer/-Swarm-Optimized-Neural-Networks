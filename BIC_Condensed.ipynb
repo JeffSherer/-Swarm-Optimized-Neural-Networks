{
  "nbformat": 4,
  "nbformat_minor": 0,
  "metadata": {
    "colab": {
      "provenance": []
    },
    "kernelspec": {
      "name": "python3",
      "display_name": "Python 3"
    },
    "language_info": {
      "name": "python"
    }
  },
  "cells": [
    {
      "cell_type": "code",
      "source": [
        "import pandas as pd\n",
        "import numpy as np\n",
        "import random\n",
        "\n",
        "from sklearn.model_selection import train_test_split\n",
        "from sklearn.preprocessing import StandardScaler\n",
        "from sklearn.metrics import confusion_matrix, roc_curve, auc\n",
        "\n",
        "import seaborn as sns\n",
        "import matplotlib.pyplot as plt\n"
      ],
      "metadata": {
        "id": "ZgiWOrzpmwIX"
      },
      "execution_count": null,
      "outputs": []
    },
    {
      "cell_type": "markdown",
      "source": [
        "# Data Preparation"
      ],
      "metadata": {
        "id": "WB9Tt8c0b3IN"
      }
    },
    {
      "cell_type": "code",
      "source": [
        "url = \"https://archive.ics.uci.edu/ml/machine-learning-databases/00267/data_banknote_authentication.txt\"\n",
        "\n",
        "data_banknote = pd.read_csv(url, header=None)\n",
        "\n",
        "# Numpy Random Seed for reproducibility\n",
        "np.random.seed(42)\n",
        "random.seed(42)\n",
        "\n",
        "# Extract features and gold labels, reshaping the labels to a column vector\n",
        "features = data_banknote.iloc[:, :-1].values\n",
        "labels = data_banknote.iloc[:, -1].values.reshape(-1, 1)\n",
        "\n",
        "# Initialize StandardScaler\n",
        "scaler = StandardScaler()\n",
        "\n",
        "# Normalize features\n",
        "features_normalized = scaler.fit_transform(features)\n",
        "\n",
        "# Split features and labels into training (80%) and testing sets (20%)\n",
        "X_train, X_test, y_train, y_test = train_test_split(features_normalized, labels, test_size=0.2, random_state=42)"
      ],
      "metadata": {
        "id": "jTZ1inahhtCw"
      },
      "execution_count": null,
      "outputs": []
    },
    {
      "cell_type": "markdown",
      "source": [
        "# Neural Network Implementation"
      ],
      "metadata": {
        "id": "_jbo5HlKbrXC"
      }
    },
    {
      "cell_type": "code",
      "source": [
        "class NeuralNetwork:\n",
        "    def __init__(self, layers, activation='sigmoid'):\n",
        "        # Initialize the NN\n",
        "        self.layers = layers\n",
        "        self.activation = activation\n",
        "        self.weights = []\n",
        "        self.biases = []\n",
        "\n",
        "        # Randomly initialize weights and biases (except input layer)\n",
        "        for i in range(1, len(self.layers)):\n",
        "            self.weights.append(np.random.randn(self.layers[i-1], self.layers[i]))\n",
        "            self.biases.append(np.random.randn(self.layers[i]))\n",
        "\n",
        "    #define activation functions\n",
        "    def activate(self, x):\n",
        "        if self.activation == 'logistic':\n",
        "            return 1 / (1 + np.exp(-x))\n",
        "        elif self.activation == 'relu':\n",
        "            return np.maximum(0, x)\n",
        "        elif self.activation == 'tanh':\n",
        "            return np.tanh(x)\n",
        "        elif self.activation == 'sigmoid':\n",
        "            return 1 / (1 + np.exp(-x))\n",
        "        else:\n",
        "            raise ValueError(\"Invalid activation function\")\n",
        "\n",
        "    #forward propagation\n",
        "    def forward(self, x):\n",
        "        #lists to store outputs for before and after activation\n",
        "        self.z = []\n",
        "        self.a = [x]\n",
        "\n",
        "\n",
        "        # Iterate through the layers and compute outputs\n",
        "        for w, b in zip(self.weights, self.biases):\n",
        "            z = np.dot(x, w) + b\n",
        "            a = self.activate(z)\n",
        "            self.z.append(z)\n",
        "            self.a.append(a)\n",
        "            x = a\n",
        "        return x\n"
      ],
      "metadata": {
        "id": "TV7F_uJkkQIb"
      },
      "execution_count": null,
      "outputs": []
    },
    {
      "cell_type": "markdown",
      "source": [
        "# PSO Implementation"
      ],
      "metadata": {
        "id": "17QYh7q7bpV3"
      }
    },
    {
      "cell_type": "code",
      "source": [
        "class Particle:\n",
        "    def __init__(self, dimension):\n",
        "        # Initialize particle, including randomly intializing position, velocity, best informant\n",
        "        self.position = np.random.randn(dimension)\n",
        "        self.velocity = np.random.randn(dimension)\n",
        "        self.best_position = np.copy(self.position)\n",
        "        self.best_score = float('inf')\n",
        "        self.informants = []\n",
        "        self.best_informant_position = np.random.randn(dimension)\n",
        "        self.best_informant_score = float('inf')\n",
        "\n",
        "\n",
        "class PSO:\n",
        "    def __init__(self, num_particles, dimension, fitness_function, w=0.7, c1=1.5, c2=1.5, c3=1.5, max_iter=2000, early_stopping_rounds=50):\n",
        "        # Initialize PSO, random for global best position\n",
        "        self.particles = [Particle(dimension) for _ in range(num_particles)]\n",
        "        self.g_best_position = np.random.randn(dimension)\n",
        "        self.g_best_score = float('inf')\n",
        "        self.w = w\n",
        "        self.c1 = c1\n",
        "        self.c2 = c2\n",
        "        self.c3 = c3\n",
        "        self.max_iter = max_iter\n",
        "        self.fitness_function = fitness_function\n",
        "        self.early_stopping_rounds = early_stopping_rounds\n",
        "        self.initialize_informants_randomly()\n",
        "\n",
        "    #randomly selecting a number specified number of informants from the particles\n",
        "    def initialize_informants_randomly(self):\n",
        "        num_informants = 3\n",
        "        for particle in self.particles:\n",
        "            particle.informants = random.sample([p for p in self.particles if p != particle], num_informants)\n",
        "\n",
        "    def optimize(self):\n",
        "        # Optimize the swarm using Particle Swarm Optimization\n",
        "        no_improvement_counter = 0  # Counter for early stopping\n",
        "        best_fitness = float('inf')\n",
        "\n",
        "        # Iteratively update particle's position according to its fitness\n",
        "        for iteration in range(self.max_iter):\n",
        "            for particle in self.particles:\n",
        "                fitness = self.fitness_function(particle.position)\n",
        "                if fitness < particle.best_score:\n",
        "                    particle.best_score = fitness\n",
        "                    particle.best_position = particle.position\n",
        "                # Update global best\n",
        "                if fitness < self.g_best_score:\n",
        "                    self.g_best_score = fitness\n",
        "                    self.g_best_position = particle.position\n",
        "                    no_improvement_counter = 0\n",
        "                else:\n",
        "                    no_improvement_counter += 1\n",
        "\n",
        "                # Best informant update\n",
        "                for informant in particle.informants:\n",
        "                    if informant.best_score < particle.best_informant_score:\n",
        "                        particle.best_informant_score = informant.best_score\n",
        "                        particle.best_informant_position = informant.best_position\n",
        "\n",
        "            # Early Stopping\n",
        "            if no_improvement_counter >= self.early_stopping_rounds:\n",
        "                print(f\"No improvement for {self.early_stopping_rounds} consecutive iterations. Stopping early.\")\n",
        "                break\n",
        "\n",
        "            # Update particles\n",
        "            for particle in self.particles:\n",
        "                inertia = self.w * particle.velocity\n",
        "                personal_attraction = self.c1 * np.random.random() * (particle.best_position - particle.position)\n",
        "                global_attraction = self.c2 * np.random.random() * (self.g_best_position - particle.position)\n",
        "                informant_attraction = self.c3 * np.random.random() * (particle.best_informant_position - particle.position)\n",
        "\n",
        "                particle.velocity = inertia + personal_attraction + global_attraction + informant_attraction\n",
        "                particle.position += particle.velocity\n",
        "\n",
        "        return self.g_best_position, self.g_best_score\n",
        "\n",
        "# Fitness evaluator of the particle swarm for NN optimization\n",
        "class PSOEval:\n",
        "    def __init__(self, nn, data, labels):\n",
        "        self.nn = nn\n",
        "        self.data = data\n",
        "        self.labels = labels\n",
        "        # Initialize and calculate total number of parameters in NN\n",
        "        self.dim = sum([w.size for w in self.nn.weights]) + sum([b.size for b in self.nn.biases])\n",
        "\n",
        "    # Decodes particle's position vector\n",
        "    def decode_weights(self, particle_position):\n",
        "        # Initialize index for particle_position\n",
        "        idx = 0\n",
        "        # Update weights\n",
        "        for i in range(len(self.nn.weights)):\n",
        "            # Current weight matrix\n",
        "            rows, cols = self.nn.weights[i].shape\n",
        "            # Reshape particle_position to match the weight matrix\n",
        "            self.nn.weights[i] = np.reshape(particle_position[idx:idx + rows * cols], (rows, cols))\n",
        "            idx += rows * cols\n",
        "        #Update biases\n",
        "        for i in range(len(self.nn.biases)):\n",
        "            length = self.nn.biases[i].size\n",
        "            self.nn.biases[i] = particle_position[idx:idx + length]\n",
        "            idx += length\n",
        "\n",
        "    # Callable method to evaluate the fitness of a particle based on its fitness\n",
        "    def __call__(self, particle_position):\n",
        "        self.decode_weights(particle_position)\n",
        "        predictions = np.array([self.nn.forward(d) for d in self.data])\n",
        "        # Threshold predictions for binary classification\n",
        "        binary_predictions = (predictions > 0.5).astype(int)\n",
        "        # Compute accuracy\n",
        "        accuracy = np.mean(binary_predictions == self.labels)\n",
        "        # Lower fitness in PSO so use the complement of the accuracy\n",
        "        return 1 - accuracy\n"
      ],
      "metadata": {
        "id": "avP2X2FShs20"
      },
      "execution_count": null,
      "outputs": []
    },
    {
      "cell_type": "markdown",
      "source": [
        "# Train and Test"
      ],
      "metadata": {
        "id": "v3ZqW1c2bc8o"
      }
    },
    {
      "cell_type": "code",
      "source": [
        "def train_neural_network_with_pso(X_train, y_train, X_test, y_test):\n",
        "    # Initialize NN with specified layers and activation function\n",
        "    nn = NeuralNetwork(layers=[X_train.shape[1], 10, 10, 20, 1], activation='tanh')\n",
        "\n",
        "    # Evaluate the fitness for the training data and NN\n",
        "    evaluator = PSOEval(nn, X_train, y_train)\n",
        "    # Calculate total dimension of NN\n",
        "    dimension = sum([w.size for w in nn.weights]) + sum([b.size for b in nn.biases])\n",
        "\n",
        "    # Initialize PSO  with specified parameters\n",
        "    pso = PSO(num_particles=100, dimension=dimension, fitness_function=evaluator)\n",
        "    pso.optimize()\n",
        "\n",
        "    # Decode best position found by PSO\n",
        "    evaluator.decode_weights(pso.g_best_position)\n",
        "\n",
        "    # Predictions according to the train data\n",
        "    predictions = np.array([nn.forward(data) for data in X_test])\n",
        "    # Accuracy of the thresholded predictions\n",
        "    accuracy = np.mean((predictions > 0.5).astype(int) == y_test)\n",
        "\n",
        "    return nn, accuracy, pso.g_best_position\n",
        "\n",
        "\n",
        "def evaluate_neural_network(nn, evaluator, best_weights, X_test, y_test):\n",
        "    # Decode best weights\n",
        "    evaluator.decode_weights(best_weights)\n",
        "    # Prediction for the data in the test set\n",
        "    predictions = np.array([nn.forward(data) for data in X_test])\n",
        "    # threhsolded predictions\n",
        "    binary_predictions = (predictions > 0.5).astype(int)\n",
        "    # Calculate the accuracy according to true labels\n",
        "    accuracy = (binary_predictions == y_test).mean() * 100\n",
        "    return accuracy"
      ],
      "metadata": {
        "id": "7dyChKJxhsyr"
      },
      "execution_count": null,
      "outputs": []
    },
    {
      "cell_type": "code",
      "source": [
        "# Get trained neural network and  best weights found during training\n",
        "trained_nn, accuracy, best_weights = train_neural_network_with_pso(X_train, y_train, X_test, y_test)\n",
        "evaluator_trained = PSOEval(trained_nn, X_train, y_train)\n",
        "\n",
        "# Evaluate trained NN on test-set and get the test accuracy\n",
        "test_accuracy = evaluate_neural_network(trained_nn, evaluator_trained, best_weights, X_test, y_test)\n",
        "print(f\"Test Accuracy: {test_accuracy}%\")\n"
      ],
      "metadata": {
        "colab": {
          "base_uri": "https://localhost:8080/"
        },
        "id": "LFQD0lY2hsqF",
        "outputId": "ba9497c8-0f47-4e11-a057-2f3d0068381b"
      },
      "execution_count": null,
      "outputs": [
        {
          "output_type": "stream",
          "name": "stdout",
          "text": [
            "No improvement for 50 consecutive iterations. Stopping early.\n",
            "Test Accuracy: 94.54545454545455%\n"
          ]
        }
      ]
    },
    {
      "cell_type": "markdown",
      "source": [
        "# Confusion Matrix and ROC Curve"
      ],
      "metadata": {
        "id": "ch5WtvKSbY38"
      }
    },
    {
      "cell_type": "code",
      "source": [
        "def plot_confusion_matrix(y_true, y_pred):\n",
        "    cm = confusion_matrix(y_true, y_pred)\n",
        "    plt.figure(figsize=(8, 6))\n",
        "    sns.heatmap(cm, annot=True, fmt='g', cmap='Blues', cbar=False)\n",
        "    plt.xlabel('Predicted labels')\n",
        "    plt.ylabel('True labels')\n",
        "    plt.title('Confusion Matrix')\n",
        "    plt.show()\n",
        "\n",
        "def plot_roc_curve(y_true, y_scores):\n",
        "    fpr, tpr, thresholds = roc_curve(y_true, y_scores)\n",
        "    roc_auc = auc(fpr, tpr)\n",
        "    plt.figure(figsize=(8, 6))\n",
        "    plt.plot(fpr, tpr, color='darkorange', lw=2, label=f'ROC curve (area = {roc_auc:.2f})')\n",
        "    plt.plot([0, 1], [0, 1], color='navy', lw=2, linestyle='--')\n",
        "    plt.xlabel('False Positive Rate')\n",
        "    plt.ylabel('True Positive Rate')\n",
        "    plt.title('Receiver Operating Characteristic (ROC) Curve')\n",
        "    plt.legend(loc=\"lower right\")\n",
        "    plt.show()\n"
      ],
      "metadata": {
        "id": "e29aM6Hfhslx"
      },
      "execution_count": null,
      "outputs": []
    },
    {
      "cell_type": "code",
      "source": [
        "predictions = np.array([trained_nn.forward(data) for data in X_test])\n",
        "binary_predictions = (predictions > 0.5).astype(int)\n",
        "\n",
        "# Plot the confusion matrix\n",
        "plot_confusion_matrix(y_test, binary_predictions)\n",
        "\n",
        "# Plot the ROC curve\n",
        "plot_roc_curve(y_test, predictions)\n"
      ],
      "metadata": {
        "colab": {
          "base_uri": "https://localhost:8080/",
          "height": 1000
        },
        "id": "KwVPPZegJgqL",
        "outputId": "728797d2-fcf7-4310-a616-44358b83d526"
      },
      "execution_count": null,
      "outputs": [
        {
          "output_type": "display_data",
          "data": {
            "text/plain": [
              "<Figure size 800x600 with 1 Axes>"
            ],
            "image/png": "[encoded data removed]"
          },
          "metadata": {}
        },
        {
          "output_type": "display_data",
          "data": {
            "text/plain": [
              "<Figure size 800x600 with 1 Axes>"
            ],
            "image/png": "[encoded data removed]"
          },
          "metadata": {}
        }
      ]
    },
    {
      "cell_type": "markdown",
      "source": [
        "# Easy way to find Average of 10 experiments"
      ],
      "metadata": {
        "id": "WVtiqcdqTvHS"
      }
    },
    {
      "cell_type": "code",
      "source": [
        "def run_experiment(X_train, y_train, X_test, y_test, num_particles, w, c1, c2, c3):\n",
        "    \"\"\"\n",
        "    Run a single instance of training the neural network with PSO using specified hyperparameters.\n",
        "\n",
        "    Parameters:\n",
        "    X_train, y_train: Training data and labels.\n",
        "    X_test, y_test: Testing data and labels.\n",
        "    num_particles: Number of particles in PSO.\n",
        "    w, c1, c2, c3: PSO hyperparameters for inertia weight, cognitive component, and social components.\n",
        "\n",
        "    Returns:\n",
        "    Tuple containing the trained neural network, accuracy on the test set, and the best position found by PSO.\n",
        "    \"\"\"\n",
        "\n",
        "    # Initialize the Neural Network\n",
        "    nn = NeuralNetwork(layers=[X_train.shape[1], 10, 10, 20, 1], activation='tanh')\n",
        "\n",
        "    # Initialize the PSOEval with the neural network, training data, and labels\n",
        "    evaluator = PSOEval(nn, X_train, y_train)\n",
        "\n",
        "    # Calculate the total number of parameters in the neural network\n",
        "    dimension = sum([w.size for w in nn.weights]) + sum([b.size for b in nn.biases])\n",
        "\n",
        "    # Initialize the PSO with the provided hyperparameters\n",
        "    pso = PSO(num_particles=num_particles, dimension=dimension, fitness_function=evaluator, w=w, c1=c1, c2=c2, c3=c3)\n",
        "\n",
        "    # Optimize the PSO\n",
        "    best_position, _ = pso.optimize()\n",
        "\n",
        "    # Decode the best position found by PSO and evaluate the network on the test set\n",
        "    evaluator.decode_weights(best_position)\n",
        "    predictions = np.array([nn.forward(data) for data in X_test])\n",
        "    accuracy = np.mean((predictions > 0.5).astype(int) == y_test)\n",
        "\n",
        "    return nn, accuracy, best_position\n"
      ],
      "metadata": {
        "id": "rbAjCZ57RcnY"
      },
      "execution_count": null,
      "outputs": []
    },
    {
      "cell_type": "code",
      "source": [
        "\n",
        "# Define your hyperparameters\n",
        "hyperparameters = [(100, 0.7, 1.5, 1.5, 1.5)]  # Example: num_particles, w, c1, c2, c3\n",
        "\n",
        "# Store results\n",
        "experiment_results = {}\n",
        "\n",
        "for num_particles, w, c1, c2, c3 in hyperparameters:\n",
        "    key = f\"particles_{num_particles}_w_{w}_c1_{c1}_c2_{c2}_c3_{c3}\"\n",
        "    experiment_results[key] = []\n",
        "\n",
        "    # Run each experiment 10 times\n",
        "    for i in range(10):\n",
        "        # Pass all required arguments to the function\n",
        "        result = run_experiment(X_train, y_train, X_test, y_test, num_particles, w, c1, c2, c3)\n",
        "        experiment_results[key].append(result)\n",
        "\n",
        "# Now experiment_results holds all your experiment data\n"
      ],
      "metadata": {
        "colab": {
          "base_uri": "https://localhost:8080/"
        },
        "id": "olNcPBS9Q5pg",
        "outputId": "c4a42a59-fadf-424d-c04b-f8edacdca7de"
      },
      "execution_count": null,
      "outputs": [
        {
          "output_type": "stream",
          "name": "stdout",
          "text": [
            "No improvement for 50 consecutive iterations. Stopping early.\n",
            "No improvement for 50 consecutive iterations. Stopping early.\n",
            "No improvement for 50 consecutive iterations. Stopping early.\n",
            "No improvement for 50 consecutive iterations. Stopping early.\n",
            "No improvement for 50 consecutive iterations. Stopping early.\n",
            "No improvement for 50 consecutive iterations. Stopping early.\n",
            "No improvement for 50 consecutive iterations. Stopping early.\n",
            "No improvement for 50 consecutive iterations. Stopping early.\n",
            "No improvement for 50 consecutive iterations. Stopping early.\n",
            "No improvement for 50 consecutive iterations. Stopping early.\n"
          ]
        }
      ]
    },
    {
      "cell_type": "code",
      "source": [
        "# Function to print experiment results\n",
        "def print_experiment_results(experiment_results):\n",
        "    \"\"\"\n",
        "    Prints the results of the experiments, comparing the accuracies across different hyperparameter settings.\n",
        "\n",
        "    Parameters:\n",
        "    experiment_results (dict): Dictionary containing the results of the experiments.\n",
        "    \"\"\"\n",
        "    for key, results in experiment_results.items():\n",
        "        # Extract accuracy values from the results and calculate average\n",
        "        accuracies = [result[1] for result in results]  # Assuming accuracy is the second element in the tuple\n",
        "        average_accuracy = sum(accuracies) / len(accuracies)\n",
        "        print(f\"Setting: {key} - Average Accuracy: {average_accuracy:.2f}\")\n",
        "\n",
        "# Call the function to print results\n",
        "print_experiment_results(experiment_results)\n"
      ],
      "metadata": {
        "colab": {
          "base_uri": "https://localhost:8080/"
        },
        "id": "YxLD8aaAUD4D",
        "outputId": "6bf7c2c4-86a6-41a3-830b-69a9f34e95b0"
      },
      "execution_count": null,
      "outputs": [
        {
          "output_type": "stream",
          "name": "stdout",
          "text": [
            "Setting: particles_100_w_0.7_c1_1.5_c2_1.5_c3_1.5 - Average Accuracy: 0.80\n"
          ]
        }
      ]
    }
  ]
}